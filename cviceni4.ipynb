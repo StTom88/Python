{
 "cells": [
  {
   "cell_type": "code",
   "execution_count": 1,
   "metadata": {},
   "outputs": [],
   "source": [
    "# import cv2\n",
    "\n",
    "# source = cv2.VideoCapture(0)\n",
    "\n",
    "# win_name = 'camera'\n",
    "\n",
    "# cv2.namedWindow(win_name, cv2.WINDOW_OPENGL)\n",
    "# cv2.resizeWindow(win_name, 1920,1080)\n",
    "\n",
    "# while cv2.waitKey(1) != 27:\n",
    "#     has_frame, frame = source.read()\n",
    "#     if not has_frame:\n",
    "#         break\n",
    "\n",
    "#     frame = cv2.flip(frame, 1)\n",
    "\n",
    "#     cv2.imshow(win_name, frame)\n",
    "\n",
    "# source.release()\n",
    "# cv2.destroyWindow(win_name)\n",
    "\n"
   ]
  },
  {
   "cell_type": "code",
   "execution_count": null,
   "metadata": {},
   "outputs": [
    {
     "name": "stderr",
     "output_type": "stream",
     "text": [
      "2025-03-17 21:44:52.140 python[56125:1714354] WARNING: AVCaptureDeviceTypeExternal is deprecated for Continuity Cameras. Please use AVCaptureDeviceTypeContinuityCamera and add NSCameraUseContinuityCameraDeviceType to your Info.plist.\n",
      "2025-03-17 21:44:53.219 python[56125:1714354] +[IMKClient subclass]: chose IMKClient_Modern\n",
      "2025-03-17 21:44:53.219 python[56125:1714354] +[IMKInputSession subclass]: chose IMKInputSession_Modern\n"
     ]
    }
   ],
   "source": [
    "import cv2\n",
    "import os\n",
    "\n",
    "source = cv2.VideoCapture(0)\n",
    "\n",
    "win_name = 'camera'\n",
    "\n",
    "cv2.namedWindow(win_name, cv2.WINDOW_OPENGL)\n",
    "cv2.resizeWindow(win_name, 1920,1080)\n",
    "\n",
    "prototxt = os.path.join(\"resources\", \"deploy.prototxt\")\n",
    "model = os.path.join(\"resources\", \"res10_300x300_ssd_iter_140000_fp16.caffemodel\")\n",
    "\n",
    "net = cv2.dnn.readNetFromCaffe(prototxt, model)\n",
    "\n",
    "\n",
    "# model parameters\n",
    "in_width = 300\n",
    "in_height = 300\n",
    "mean = [104, 117, 123]\n",
    "conf_threshold = 0.7\n",
    "\n",
    "while cv2.waitKey(1) != 27:\n",
    "    has_frame, frame = source.read()\n",
    "    if not has_frame:\n",
    "        break\n",
    "    \n",
    "    frame = cv2.flip(frame, 1)\n",
    "    frame_height = frame.shape[0]\n",
    "    frame_width = frame.shape[1]\n",
    "\n",
    "\n",
    "    blob = cv2.dnn.blobFromImage(frame, 1.0, (in_width, in_height), mean, swapRB=False, crop=False)\n",
    "\n",
    "    net.setInput(blob)\n",
    "    detections = net.forward()\n",
    "\n",
    "    for i in range(detections.shape[2]):\n",
    "        confidence = detections[0, 0, i, 2]\n",
    "        if confidence > conf_threshold:\n",
    "            x_top_left = int(detections[0, 0, i, 3] * frame_width)\n",
    "            y_top_left = int(detections[0, 0, i, 4] * frame_height)\n",
    "            x_bottom_right = int(detections[0, 0, i, 5] * frame_width)\n",
    "            y_bottom_right = int(detections[0, 0, i, 6] * frame_height)\n",
    "\n",
    "            cv2.rectangle(frame, (x_top_left, y_top_left), (x_bottom_right, y_bottom_right), (0, 255, 0), 4)\n",
    "\n",
    "    cv2.imshow(win_name, frame)\n",
    "\n",
    "source.release()\n",
    "cv2.destroyWindow(win_name)\n",
    "\n"
   ]
  },
  {
   "cell_type": "code",
   "execution_count": 31,
   "metadata": {},
   "outputs": [
    {
     "name": "stdout",
     "output_type": "stream",
     "text": [
      "pretzel\n"
     ]
    }
   ],
   "source": [
    "import csv\n",
    "import os\n",
    "\n",
    "class_map = {}\n",
    "\n",
    "with open(os.path.join(\"resources\", \"GoogleNet\", 'classes.csv'), 'r', newline='') as csvfile:\n",
    "    reader = csv.DictReader(csvfile)\n",
    "    for row in reader:\n",
    "        class_map[row['Class ID']] = row['Class Name']\n",
    "\n",
    "print(class_map['932'])\n"
   ]
  },
  {
   "cell_type": "code",
   "execution_count": null,
   "metadata": {},
   "outputs": [
    {
     "name": "stderr",
     "output_type": "stream",
     "text": [
      "[ WARN:0@21.123] global loadsave.cpp:268 findDecoder imread_('resources/hamster.jpg'): can't open/read file: check file path/integrity\n"
     ]
    },
    {
     "ename": "error",
     "evalue": "OpenCV(4.11.0) /Users/xperience/GHA-Actions-OpenCV/_work/opencv-python/opencv-python/opencv/modules/imgproc/src/resize.cpp:4208: error: (-215:Assertion failed) !ssize.empty() in function 'resize'\n",
     "output_type": "error",
     "traceback": [
      "\u001b[0;31m---------------------------------------------------------------------------\u001b[0m",
      "\u001b[0;31merror\u001b[0m                                     Traceback (most recent call last)",
      "Cell \u001b[0;32mIn[2], line 20\u001b[0m\n\u001b[1;32m     17\u001b[0m mean \u001b[38;5;241m=\u001b[39m [\u001b[38;5;241m104\u001b[39m, \u001b[38;5;241m117\u001b[39m, \u001b[38;5;241m123\u001b[39m]\n\u001b[1;32m     18\u001b[0m conf_threshold \u001b[38;5;241m=\u001b[39m \u001b[38;5;241m0.7\u001b[39m\n\u001b[0;32m---> 20\u001b[0m blob \u001b[38;5;241m=\u001b[39m \u001b[43mcv2\u001b[49m\u001b[38;5;241;43m.\u001b[39;49m\u001b[43mdnn\u001b[49m\u001b[38;5;241;43m.\u001b[39;49m\u001b[43mblobFromImage\u001b[49m\u001b[43m(\u001b[49m\u001b[43mimg\u001b[49m\u001b[43m,\u001b[49m\u001b[43m \u001b[49m\u001b[38;5;241;43m1.0\u001b[39;49m\u001b[43m,\u001b[49m\u001b[43m \u001b[49m\u001b[43m(\u001b[49m\u001b[43min_width\u001b[49m\u001b[43m,\u001b[49m\u001b[43m \u001b[49m\u001b[43min_height\u001b[49m\u001b[43m)\u001b[49m\u001b[43m,\u001b[49m\u001b[43m \u001b[49m\u001b[43mmean\u001b[49m\u001b[43m,\u001b[49m\u001b[43m \u001b[49m\u001b[43mswapRB\u001b[49m\u001b[38;5;241;43m=\u001b[39;49m\u001b[38;5;28;43;01mFalse\u001b[39;49;00m\u001b[43m,\u001b[49m\u001b[43m \u001b[49m\u001b[43mcrop\u001b[49m\u001b[38;5;241;43m=\u001b[39;49m\u001b[38;5;28;43;01mFalse\u001b[39;49;00m\u001b[43m)\u001b[49m\n\u001b[1;32m     22\u001b[0m net\u001b[38;5;241m.\u001b[39msetInput(blob)\n\u001b[1;32m     23\u001b[0m detections \u001b[38;5;241m=\u001b[39m net\u001b[38;5;241m.\u001b[39mforward()\n",
      "\u001b[0;31merror\u001b[0m: OpenCV(4.11.0) /Users/xperience/GHA-Actions-OpenCV/_work/opencv-python/opencv-python/opencv/modules/imgproc/src/resize.cpp:4208: error: (-215:Assertion failed) !ssize.empty() in function 'resize'\n"
     ]
    }
   ],
   "source": [
    "import os\n",
    "import matplotlib.pyplot as plt\n",
    "import cv2\n",
    "import numpy as np\n",
    "\n",
    "img = cv2.imread(os.path.join('resources', 'hamster.jpeg'))\n",
    "\n",
    "prototxt = os.path.join(\"resources\", 'GoogleNet' ,\"deploy.prototxt\")\n",
    "model = os.path.join(\"resources\", 'GoogleNet' ,\"bvlc_googlenet.caffemodel\")\n",
    "\n",
    "net = cv2.dnn.readNetFromCaffe(prototxt, model)\n",
    "\n",
    "\n",
    "# model parameters\n",
    "in_width = 224\n",
    "in_height = 224\n",
    "mean = [104, 117, 123]\n",
    "conf_threshold = 0.7\n",
    "\n",
    "blob = cv2.dnn.blobFromImage(img, 1.0, (in_width, in_height), mean, swapRB=False, crop=False)\n",
    "\n",
    "net.setInput(blob)\n",
    "detections = net.forward()\n",
    "\n",
    "# print(detections.shape)\n",
    "# print(detections)\n",
    "\n",
    "max_value = np.max(detections)\n",
    "print(max_value)\n",
    "index = np.argwhere(detections == max_value)\n",
    "print(class_map[str(index[0][1])], max_value * 100)\n",
    "\n",
    "\n",
    "plt.imshow(img[:, :, ::-1])"
   ]
  },
  {
   "cell_type": "code",
   "execution_count": null,
   "metadata": {},
   "outputs": [],
   "source": []
  }
 ],
 "metadata": {
  "kernelspec": {
   "display_name": "7gzav-env",
   "language": "python",
   "name": "python3"
  },
  "language_info": {
   "codemirror_mode": {
    "name": "ipython",
    "version": 3
   },
   "file_extension": ".py",
   "mimetype": "text/x-python",
   "name": "python",
   "nbconvert_exporter": "python",
   "pygments_lexer": "ipython3",
   "version": "3.13.1"
  }
 },
 "nbformat": 4,
 "nbformat_minor": 2
}
